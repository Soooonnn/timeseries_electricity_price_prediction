{
 "cells": [
  {
   "cell_type": "code",
   "execution_count": 132,
   "id": "9c127cac-d935-4cb1-8e71-f4f91ec7ae11",
   "metadata": {},
   "outputs": [],
   "source": [
    "import pandas as pd\n",
    "\n",
    "price_real = pd.read_csv('./data/제주전력시장_시장전기가격_실시간가격.csv')\n",
    "price_last = pd.read_csv('./data/제주전력시장_시장전기가격_하루전가격.csv')\n",
    "\n",
    "weather2_real = pd.read_csv('./data/기상실측데이터_2.csv')\n",
    "weather2_pred = pd.read_csv('./data/기상예측데이터_2.csv')\n",
    "\n",
    "market_df = pd.read_csv('./data/제주전력시장_현황데이터.csv')"
   ]
  },
  {
   "cell_type": "code",
   "execution_count": 133,
   "id": "2428329e-69ae-41c5-bdaf-2bc8d794e8f5",
   "metadata": {},
   "outputs": [
    {
     "data": {
      "text/html": [
       "<div>\n",
       "<style scoped>\n",
       "    .dataframe tbody tr th:only-of-type {\n",
       "        vertical-align: middle;\n",
       "    }\n",
       "\n",
       "    .dataframe tbody tr th {\n",
       "        vertical-align: top;\n",
       "    }\n",
       "\n",
       "    .dataframe thead th {\n",
       "        text-align: right;\n",
       "    }\n",
       "</style>\n",
       "<table border=\"1\" class=\"dataframe\">\n",
       "  <thead>\n",
       "    <tr style=\"text-align: right;\">\n",
       "      <th></th>\n",
       "      <th>location</th>\n",
       "      <th>base_ts</th>\n",
       "      <th>ts</th>\n",
       "      <th>cloud</th>\n",
       "      <th>temp</th>\n",
       "      <th>temp_max</th>\n",
       "      <th>temp_min</th>\n",
       "      <th>humidity</th>\n",
       "      <th>ground_press</th>\n",
       "      <th>wind_speed</th>\n",
       "      <th>wind_dir</th>\n",
       "      <th>rain</th>\n",
       "      <th>snow</th>\n",
       "    </tr>\n",
       "  </thead>\n",
       "  <tbody>\n",
       "    <tr>\n",
       "      <th>0</th>\n",
       "      <td>Gaigeturi</td>\n",
       "      <td>1709258400</td>\n",
       "      <td>1709305200</td>\n",
       "      <td>100</td>\n",
       "      <td>3.23</td>\n",
       "      <td>3.23</td>\n",
       "      <td>3.23</td>\n",
       "      <td>59</td>\n",
       "      <td>1027</td>\n",
       "      <td>9.59</td>\n",
       "      <td>337</td>\n",
       "      <td>0.0</td>\n",
       "      <td>0</td>\n",
       "    </tr>\n",
       "    <tr>\n",
       "      <th>1</th>\n",
       "      <td>Gaigeturi</td>\n",
       "      <td>1709258400</td>\n",
       "      <td>1709308800</td>\n",
       "      <td>100</td>\n",
       "      <td>3.30</td>\n",
       "      <td>3.30</td>\n",
       "      <td>3.30</td>\n",
       "      <td>59</td>\n",
       "      <td>1027</td>\n",
       "      <td>9.28</td>\n",
       "      <td>338</td>\n",
       "      <td>0.0</td>\n",
       "      <td>0</td>\n",
       "    </tr>\n",
       "    <tr>\n",
       "      <th>2</th>\n",
       "      <td>Gaigeturi</td>\n",
       "      <td>1709258400</td>\n",
       "      <td>1709312400</td>\n",
       "      <td>100</td>\n",
       "      <td>3.35</td>\n",
       "      <td>3.35</td>\n",
       "      <td>3.35</td>\n",
       "      <td>59</td>\n",
       "      <td>1027</td>\n",
       "      <td>8.82</td>\n",
       "      <td>337</td>\n",
       "      <td>0.0</td>\n",
       "      <td>0</td>\n",
       "    </tr>\n",
       "    <tr>\n",
       "      <th>3</th>\n",
       "      <td>Gaigeturi</td>\n",
       "      <td>1709258400</td>\n",
       "      <td>1709316000</td>\n",
       "      <td>100</td>\n",
       "      <td>3.35</td>\n",
       "      <td>3.35</td>\n",
       "      <td>3.35</td>\n",
       "      <td>59</td>\n",
       "      <td>1026</td>\n",
       "      <td>8.42</td>\n",
       "      <td>338</td>\n",
       "      <td>0.0</td>\n",
       "      <td>0</td>\n",
       "    </tr>\n",
       "    <tr>\n",
       "      <th>4</th>\n",
       "      <td>Gaigeturi</td>\n",
       "      <td>1709258400</td>\n",
       "      <td>1709319600</td>\n",
       "      <td>99</td>\n",
       "      <td>3.43</td>\n",
       "      <td>3.43</td>\n",
       "      <td>3.43</td>\n",
       "      <td>59</td>\n",
       "      <td>1026</td>\n",
       "      <td>8.24</td>\n",
       "      <td>337</td>\n",
       "      <td>0.0</td>\n",
       "      <td>0</td>\n",
       "    </tr>\n",
       "    <tr>\n",
       "      <th>...</th>\n",
       "      <td>...</td>\n",
       "      <td>...</td>\n",
       "      <td>...</td>\n",
       "      <td>...</td>\n",
       "      <td>...</td>\n",
       "      <td>...</td>\n",
       "      <td>...</td>\n",
       "      <td>...</td>\n",
       "      <td>...</td>\n",
       "      <td>...</td>\n",
       "      <td>...</td>\n",
       "      <td>...</td>\n",
       "      <td>...</td>\n",
       "    </tr>\n",
       "    <tr>\n",
       "      <th>17770</th>\n",
       "      <td>Jeju</td>\n",
       "      <td>1729648800</td>\n",
       "      <td>1729767600</td>\n",
       "      <td>0</td>\n",
       "      <td>17.27</td>\n",
       "      <td>17.27</td>\n",
       "      <td>17.27</td>\n",
       "      <td>56</td>\n",
       "      <td>1021</td>\n",
       "      <td>3.70</td>\n",
       "      <td>70</td>\n",
       "      <td>0.0</td>\n",
       "      <td>0</td>\n",
       "    </tr>\n",
       "    <tr>\n",
       "      <th>17771</th>\n",
       "      <td>Jeju</td>\n",
       "      <td>1729648800</td>\n",
       "      <td>1729771200</td>\n",
       "      <td>0</td>\n",
       "      <td>17.33</td>\n",
       "      <td>17.33</td>\n",
       "      <td>17.33</td>\n",
       "      <td>58</td>\n",
       "      <td>1021</td>\n",
       "      <td>4.05</td>\n",
       "      <td>78</td>\n",
       "      <td>0.0</td>\n",
       "      <td>0</td>\n",
       "    </tr>\n",
       "    <tr>\n",
       "      <th>17772</th>\n",
       "      <td>Jeju</td>\n",
       "      <td>1729648800</td>\n",
       "      <td>1729774800</td>\n",
       "      <td>0</td>\n",
       "      <td>17.33</td>\n",
       "      <td>17.33</td>\n",
       "      <td>17.33</td>\n",
       "      <td>56</td>\n",
       "      <td>1022</td>\n",
       "      <td>4.35</td>\n",
       "      <td>85</td>\n",
       "      <td>0.0</td>\n",
       "      <td>0</td>\n",
       "    </tr>\n",
       "    <tr>\n",
       "      <th>17773</th>\n",
       "      <td>Jeju</td>\n",
       "      <td>1729648800</td>\n",
       "      <td>1729778400</td>\n",
       "      <td>0</td>\n",
       "      <td>17.48</td>\n",
       "      <td>17.48</td>\n",
       "      <td>17.48</td>\n",
       "      <td>55</td>\n",
       "      <td>1022</td>\n",
       "      <td>4.74</td>\n",
       "      <td>79</td>\n",
       "      <td>0.0</td>\n",
       "      <td>0</td>\n",
       "    </tr>\n",
       "    <tr>\n",
       "      <th>17774</th>\n",
       "      <td>Jeju</td>\n",
       "      <td>1729648800</td>\n",
       "      <td>1729782000</td>\n",
       "      <td>0</td>\n",
       "      <td>17.89</td>\n",
       "      <td>17.89</td>\n",
       "      <td>17.89</td>\n",
       "      <td>59</td>\n",
       "      <td>1022</td>\n",
       "      <td>5.51</td>\n",
       "      <td>75</td>\n",
       "      <td>0.0</td>\n",
       "      <td>0</td>\n",
       "    </tr>\n",
       "  </tbody>\n",
       "</table>\n",
       "<p>17775 rows × 13 columns</p>\n",
       "</div>"
      ],
      "text/plain": [
       "        location     base_ts          ts  cloud   temp  temp_max  temp_min  \\\n",
       "0      Gaigeturi  1709258400  1709305200    100   3.23      3.23      3.23   \n",
       "1      Gaigeturi  1709258400  1709308800    100   3.30      3.30      3.30   \n",
       "2      Gaigeturi  1709258400  1709312400    100   3.35      3.35      3.35   \n",
       "3      Gaigeturi  1709258400  1709316000    100   3.35      3.35      3.35   \n",
       "4      Gaigeturi  1709258400  1709319600     99   3.43      3.43      3.43   \n",
       "...          ...         ...         ...    ...    ...       ...       ...   \n",
       "17770       Jeju  1729648800  1729767600      0  17.27     17.27     17.27   \n",
       "17771       Jeju  1729648800  1729771200      0  17.33     17.33     17.33   \n",
       "17772       Jeju  1729648800  1729774800      0  17.33     17.33     17.33   \n",
       "17773       Jeju  1729648800  1729778400      0  17.48     17.48     17.48   \n",
       "17774       Jeju  1729648800  1729782000      0  17.89     17.89     17.89   \n",
       "\n",
       "       humidity  ground_press  wind_speed  wind_dir  rain  snow  \n",
       "0            59          1027        9.59       337   0.0     0  \n",
       "1            59          1027        9.28       338   0.0     0  \n",
       "2            59          1027        8.82       337   0.0     0  \n",
       "3            59          1026        8.42       338   0.0     0  \n",
       "4            59          1026        8.24       337   0.0     0  \n",
       "...         ...           ...         ...       ...   ...   ...  \n",
       "17770        56          1021        3.70        70   0.0     0  \n",
       "17771        58          1021        4.05        78   0.0     0  \n",
       "17772        56          1022        4.35        85   0.0     0  \n",
       "17773        55          1022        4.74        79   0.0     0  \n",
       "17774        59          1022        5.51        75   0.0     0  \n",
       "\n",
       "[17775 rows x 13 columns]"
      ]
     },
     "execution_count": 133,
     "metadata": {},
     "output_type": "execute_result"
    }
   ],
   "source": [
    "weather2_pred"
   ]
  },
  {
   "cell_type": "markdown",
   "id": "4304023c-14ec-4b35-b13b-82074c3440fa",
   "metadata": {},
   "source": [
    "# ts -> datetime 변경"
   ]
  },
  {
   "cell_type": "code",
   "execution_count": 136,
   "id": "b7b68812-0c01-42ef-829f-30131d9130b0",
   "metadata": {},
   "outputs": [],
   "source": [
    "from datetime import datetime\n",
    "def change_ts(df, column):\n",
    "    df[column] = pd.to_datetime(df[column], unit='s') \n",
    "    return df\n",
    "\n",
    "price_real = change_ts(price_real, 'ts')\n",
    "price_last = change_ts(price_last,'ts')\n",
    "weather2_real = change_ts(weather2_real,'ts')\n",
    "weather2_pred = change_ts(weather2_pred,'ts')\n",
    "market_df = change_ts(market_df,'ts')\n"
   ]
  },
  {
   "cell_type": "markdown",
   "id": "f610969b-36e9-45d1-8a6b-82d6b86c0804",
   "metadata": {},
   "source": [
    "# start date와 end date를 설정하여 어떤 데이터에 누락된 데이터가 있는지 확인하는 코드"
   ]
  },
  {
   "cell_type": "code",
   "execution_count": 168,
   "id": "cff180df-40e0-4e3e-b5c7-8a2123dd8336",
   "metadata": {},
   "outputs": [
    {
     "name": "stdout",
     "output_type": "stream",
     "text": [
      "Empty DataFrame\n",
      "Columns: [ts, 실시간 임시 가격(원/kWh), 실시간 확정 가격(원/kWh)]\n",
      "Index: []\n",
      "                      ts  하루전가격(원/kWh)\n",
      "5401 2024-10-11 16:00:00        105.62\n",
      "5402 2024-10-11 17:00:00        103.11\n",
      "5403 2024-10-11 18:00:00        103.41\n",
      "5404 2024-10-11 19:00:00        103.44\n",
      "5405 2024-10-11 20:00:00        103.44\n",
      "5406 2024-10-11 21:00:00        103.36\n",
      "5407 2024-10-11 22:00:00        105.62\n",
      "5408 2024-10-11 23:00:00        100.48\n",
      "5409 2024-10-12 00:00:00        100.20\n",
      "5410 2024-10-12 01:00:00        100.24\n",
      "5411 2024-10-12 02:00:00        106.59\n",
      "5412 2024-10-12 03:00:00        106.58\n",
      "5413 2024-10-12 04:00:00        106.44\n",
      "5414 2024-10-12 05:00:00        105.67\n",
      "5415 2024-10-12 06:00:00        100.09\n",
      "5416 2024-10-12 07:00:00        105.82\n",
      "5417 2024-10-12 08:00:00        105.88\n",
      "5418 2024-10-12 09:00:00        106.60\n",
      "5419 2024-10-12 10:00:00        107.29\n",
      "5420 2024-10-12 11:00:00        107.36\n",
      "5421 2024-10-12 12:00:00        107.36\n",
      "5422 2024-10-12 13:00:00        106.72\n",
      "5423 2024-10-12 14:00:00        106.72\n",
      "5424 2024-10-12 15:00:00        106.72\n"
     ]
    }
   ],
   "source": [
    "start_date = \"2024-10-11 16:00:00\"\n",
    "end_date = \"2024-10-12 15:00:00\"\n",
    "\n",
    "print(price_real[(price_real['ts'] >= start_date) & (price_real['ts'] <= end_date)])\n",
    "print(price_last[(price_last['ts'] >= start_date) & (price_last['ts'] <= end_date)])"
   ]
  },
  {
   "cell_type": "code",
   "execution_count": 170,
   "id": "4d5a7b79-23ce-4912-be6d-33a74a0df427",
   "metadata": {},
   "outputs": [
    {
     "name": "stdout",
     "output_type": "stream",
     "text": [
      "        location                  ts  cloud   temp  temp_max  temp_min  \\\n",
      "10806  Gaigeturi 2024-10-11 16:00:54     24  20.62     20.62     20.62   \n",
      "10807  Gaigeturi 2024-10-11 16:30:55      0  18.03     18.03     18.03   \n",
      "10808  Gaigeturi 2024-10-11 17:00:51     39  20.64     20.64     20.64   \n",
      "10809  Gaigeturi 2024-10-11 17:30:41      0  17.03     17.03     17.03   \n",
      "10810  Gaigeturi 2024-10-11 18:01:09     39  20.48     20.48     20.48   \n",
      "...          ...                 ...    ...    ...       ...       ...   \n",
      "33525       Jeju 2024-10-12 12:30:52      0  19.96     19.96     19.96   \n",
      "33526       Jeju 2024-10-12 13:01:07     86  20.85     20.85     20.85   \n",
      "33527       Jeju 2024-10-12 13:28:09      0  19.96     19.96     19.96   \n",
      "33528       Jeju 2024-10-12 13:58:12      0  19.96     19.96     19.96   \n",
      "33529       Jeju 2024-10-12 14:28:06      0  19.96     19.96     19.96   \n",
      "\n",
      "       humidity  ground_press  wind_speed  wind_dir  rain  snow  \n",
      "10806        69          1021        2.59        39   0.0   0.0  \n",
      "10807        72          1020        3.60       150   0.0   0.0  \n",
      "10808        68          1020        2.65        34   0.0   0.0  \n",
      "10809        77          1020        3.09       160   0.0   0.0  \n",
      "10810        68          1020        2.94        36   0.0   0.0  \n",
      "...         ...           ...         ...       ...   ...   ...  \n",
      "33525        68          1023        4.12       140   0.0   0.0  \n",
      "33526        72          1023        3.36        80   0.0   0.0  \n",
      "33527        64          1023        3.60       120   0.0   0.0  \n",
      "33528        64          1023        3.60       120   0.0   0.0  \n",
      "33529        56          1023        3.60       120   0.0   0.0  \n",
      "\n",
      "[138 rows x 12 columns]\n"
     ]
    }
   ],
   "source": [
    "print(weather2_real[(weather2_real['ts'] >= start_date) & (weather2_real['ts'] <= end_date)])"
   ]
  },
  {
   "cell_type": "code",
   "execution_count": 172,
   "id": "bb2a9661-13f7-4b39-9472-0f0221a44c9a",
   "metadata": {},
   "outputs": [
    {
     "name": "stdout",
     "output_type": "stream",
     "text": [
      "        location     base_ts                  ts  cloud   temp  temp_max  \\\n",
      "5601   Gaigeturi  1728612000 2024-10-11 16:00:00     10  20.58     20.58   \n",
      "5602   Gaigeturi  1728612000 2024-10-11 17:00:00     13  20.52     20.52   \n",
      "5603   Gaigeturi  1728612000 2024-10-11 18:00:00     28  20.45     20.45   \n",
      "5604   Gaigeturi  1728612000 2024-10-11 19:00:00    100  20.36     20.36   \n",
      "5605   Gaigeturi  1728612000 2024-10-11 20:00:00     70  20.33     20.33   \n",
      "...          ...         ...                 ...    ...    ...       ...   \n",
      "17471       Jeju  1728612000 2024-10-12 12:00:00     50  20.59     20.59   \n",
      "17472       Jeju  1728612000 2024-10-12 13:00:00      5  20.36     20.36   \n",
      "17473       Jeju  1728612000 2024-10-12 14:00:00     14  20.28     20.28   \n",
      "17474       Jeju  1728612000 2024-10-12 15:00:00     11  20.25     20.25   \n",
      "17475       Jeju  1728698400 2024-10-12 15:00:00     42  20.25     20.25   \n",
      "\n",
      "       temp_min  humidity  ground_press  wind_speed  wind_dir  rain  snow  \n",
      "5601      20.58        70          1021        2.83        44   0.0     0  \n",
      "5602      20.52        71          1020        3.28        44   0.0     0  \n",
      "5603      20.45        71          1020        3.37        43   0.0     0  \n",
      "5604      20.36        71          1020        3.38        50   0.0     0  \n",
      "5605      20.33        70          1021        3.42        49   0.0     0  \n",
      "...         ...       ...           ...         ...       ...   ...   ...  \n",
      "17471     20.59        70          1023        4.12        91   0.0     0  \n",
      "17472     20.36        70          1023        3.86        96   0.0     0  \n",
      "17473     20.28        70          1024        3.50        86   0.0     0  \n",
      "17474     20.25        70          1023        3.59        90   0.0     0  \n",
      "17475     20.25        72          1023        3.35        78   0.0     0  \n",
      "\n",
      "[75 rows x 13 columns]\n"
     ]
    }
   ],
   "source": [
    "print(weather2_pred[(weather2_pred['ts'] >= start_date) & (weather2_pred['ts'] <= end_date)])"
   ]
  },
  {
   "cell_type": "code",
   "execution_count": 174,
   "id": "2e037bda-00b5-4e2f-86ea-489e60f2b6b4",
   "metadata": {},
   "outputs": [
    {
     "name": "stdout",
     "output_type": "stream",
     "text": [
      "                       ts   공급능력(kW)  현재 수요(kW)  태양광 발전량kW)  풍력 발전량(kW)  \\\n",
      "80936 2024-10-11 16:00:00  1166000.0   524000.0         0.0     3153.81   \n",
      "80937 2024-10-11 16:05:00  1165000.0   505000.0         0.0     3378.61   \n",
      "80938 2024-10-11 16:10:00  1166000.0   500000.0         0.0     3657.45   \n",
      "80939 2024-10-11 16:15:00  1165000.0   497000.0         0.0     3008.01   \n",
      "80940 2024-10-11 16:20:00  1167000.0   496000.0         0.0     3211.62   \n",
      "...                   ...        ...        ...         ...         ...   \n",
      "81207 2024-10-12 14:35:00  1192000.0   516000.0         0.0     7882.95   \n",
      "81208 2024-10-12 14:40:00  1192000.0   514000.0         0.0     8169.83   \n",
      "81209 2024-10-12 14:45:00  1195000.0   509000.0         0.0     8331.19   \n",
      "81210 2024-10-12 14:50:00  1194000.0   506000.0         0.0     9340.02   \n",
      "81211 2024-10-12 15:00:00  1194000.0   500000.0         0.0     9345.74   \n",
      "\n",
      "       신재생 발전량 총합(kW)  공급 예비력(kW)  운영 예비력(kW)  \n",
      "80936        11383.70    592000.0    269000.0  \n",
      "80937        10493.20    590000.0    288000.0  \n",
      "80938        11449.60    596000.0    293000.0  \n",
      "80939         9500.22    596000.0    294000.0  \n",
      "80940        11728.50    600000.0    299000.0  \n",
      "...               ...         ...         ...  \n",
      "81207        14918.50    575000.0    282000.0  \n",
      "81208        13743.60    577000.0    284000.0  \n",
      "81209        16641.40    586000.0    292000.0  \n",
      "81210        15834.80    587000.0    294000.0  \n",
      "81211        15688.30    593000.0    300000.0  \n",
      "\n",
      "[276 rows x 8 columns]\n"
     ]
    }
   ],
   "source": [
    "print(market_df[(market_df['ts'] >= start_date) & (market_df['ts'] <= end_date)])"
   ]
  },
  {
   "cell_type": "markdown",
   "id": "f29b37f7-f82f-42b0-b2a3-b0d0b7746a53",
   "metadata": {},
   "source": [
    "# 데이터에서 누락된 시간 단계 확인하는 코드"
   ]
  },
  {
   "cell_type": "code",
   "execution_count": null,
   "id": "4db28c9f-5df7-4909-b061-9abceab09bb5",
   "metadata": {},
   "outputs": [],
   "source": [
    "final_df = pd.read_csv('최종데이터.csv')"
   ]
  },
  {
   "cell_type": "code",
   "execution_count": 176,
   "id": "a64ffe7c-07f6-4082-9e3e-7fb7bcf38259",
   "metadata": {},
   "outputs": [],
   "source": [
    "real_final_df = pd.read_csv('null_값_해결_df2_avg.csv')"
   ]
  },
  {
   "cell_type": "code",
   "execution_count": 180,
   "id": "e4a7b322-f323-4143-8000-a3d192820ab4",
   "metadata": {},
   "outputs": [],
   "source": [
    "real_final_df['hour'] = pd.to_datetime(real_final_df['hour'])"
   ]
  },
  {
   "cell_type": "code",
   "execution_count": 182,
   "id": "50b345a7-2d04-4c33-af44-660e2717cf31",
   "metadata": {},
   "outputs": [
    {
     "name": "stdout",
     "output_type": "stream",
     "text": [
      "누락된 시간 개수: 0\n",
      "누락된 시간 목록:\n",
      "DatetimeIndex([], dtype='datetime64[ns]', freq='h')\n"
     ]
    },
    {
     "name": "stderr",
     "output_type": "stream",
     "text": [
      "C:\\Users\\Moai\\AppData\\Local\\Temp\\ipykernel_8456\\179261494.py:1: FutureWarning: 'H' is deprecated and will be removed in a future version, please use 'h' instead.\n",
      "  full_time_range = pd.date_range(start=real_final_df['hour'].min(), end=real_final_df['hour'].max(), freq='H')\n"
     ]
    }
   ],
   "source": [
    "full_time_range = pd.date_range(start=real_final_df['hour'].min(), end=real_final_df['hour'].max(), freq='H')\n",
    "\n",
    "# 누락된 시간 확인\n",
    "missing_times = full_time_range.difference(real_final_df['hour'])\n",
    "\n",
    "print(\"누락된 시간 개수:\", len(missing_times))\n",
    "print(\"누락된 시간 목록:\")\n",
    "print(missing_times)"
   ]
  },
  {
   "cell_type": "code",
   "execution_count": 89,
   "id": "477dc438-453a-47f6-b0f1-f07833be6ddf",
   "metadata": {},
   "outputs": [
    {
     "name": "stdout",
     "output_type": "stream",
     "text": [
      "누락된 시간 목록이 'missing_times.csv'로 저장되었습니다.\n"
     ]
    }
   ],
   "source": [
    "# 누락된 시간 목록을 데이터프레임으로 변환 후 CSV 저장\n",
    "missing_df = pd.DataFrame({'missing_times': missing_times})\n",
    "missing_df.to_csv('missing_times.csv', index=False)\n",
    "\n",
    "print(\"누락된 시간 목록이 'missing_times.csv'로 저장되었습니다.\")\n"
   ]
  },
  {
   "cell_type": "code",
   "execution_count": null,
   "id": "acee4c7e-49ab-498f-88dd-20f7a28bffa5",
   "metadata": {},
   "outputs": [],
   "source": []
  }
 ],
 "metadata": {
  "kernelspec": {
   "display_name": "Python 3 (ipykernel)",
   "language": "python",
   "name": "python3"
  },
  "language_info": {
   "codemirror_mode": {
    "name": "ipython",
    "version": 3
   },
   "file_extension": ".py",
   "mimetype": "text/x-python",
   "name": "python",
   "nbconvert_exporter": "python",
   "pygments_lexer": "ipython3",
   "version": "3.12.7"
  }
 },
 "nbformat": 4,
 "nbformat_minor": 5
}
